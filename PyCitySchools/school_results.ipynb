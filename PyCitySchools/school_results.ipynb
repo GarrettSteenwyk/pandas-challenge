{
 "cells": [
  {
   "cell_type": "code",
   "execution_count": 2,
   "id": "1a734b54",
   "metadata": {},
   "outputs": [
    {
     "data": {
      "text/html": [
       "<div>\n",
       "<style scoped>\n",
       "    .dataframe tbody tr th:only-of-type {\n",
       "        vertical-align: middle;\n",
       "    }\n",
       "\n",
       "    .dataframe tbody tr th {\n",
       "        vertical-align: top;\n",
       "    }\n",
       "\n",
       "    .dataframe thead th {\n",
       "        text-align: right;\n",
       "    }\n",
       "</style>\n",
       "<table border=\"1\" class=\"dataframe\">\n",
       "  <thead>\n",
       "    <tr style=\"text-align: right;\">\n",
       "      <th></th>\n",
       "      <th>Student ID</th>\n",
       "      <th>student_name</th>\n",
       "      <th>gender</th>\n",
       "      <th>grade</th>\n",
       "      <th>school_name</th>\n",
       "      <th>reading_score</th>\n",
       "      <th>math_score</th>\n",
       "      <th>School ID</th>\n",
       "      <th>type</th>\n",
       "      <th>size</th>\n",
       "      <th>budget</th>\n",
       "    </tr>\n",
       "  </thead>\n",
       "  <tbody>\n",
       "    <tr>\n",
       "      <th>0</th>\n",
       "      <td>0</td>\n",
       "      <td>Paul Bradley</td>\n",
       "      <td>M</td>\n",
       "      <td>9th</td>\n",
       "      <td>Huang High School</td>\n",
       "      <td>66</td>\n",
       "      <td>79</td>\n",
       "      <td>0</td>\n",
       "      <td>District</td>\n",
       "      <td>2917</td>\n",
       "      <td>1910635</td>\n",
       "    </tr>\n",
       "    <tr>\n",
       "      <th>1</th>\n",
       "      <td>1</td>\n",
       "      <td>Victor Smith</td>\n",
       "      <td>M</td>\n",
       "      <td>12th</td>\n",
       "      <td>Huang High School</td>\n",
       "      <td>94</td>\n",
       "      <td>61</td>\n",
       "      <td>0</td>\n",
       "      <td>District</td>\n",
       "      <td>2917</td>\n",
       "      <td>1910635</td>\n",
       "    </tr>\n",
       "    <tr>\n",
       "      <th>2</th>\n",
       "      <td>2</td>\n",
       "      <td>Kevin Rodriguez</td>\n",
       "      <td>M</td>\n",
       "      <td>12th</td>\n",
       "      <td>Huang High School</td>\n",
       "      <td>90</td>\n",
       "      <td>60</td>\n",
       "      <td>0</td>\n",
       "      <td>District</td>\n",
       "      <td>2917</td>\n",
       "      <td>1910635</td>\n",
       "    </tr>\n",
       "    <tr>\n",
       "      <th>3</th>\n",
       "      <td>3</td>\n",
       "      <td>Dr. Richard Scott</td>\n",
       "      <td>M</td>\n",
       "      <td>12th</td>\n",
       "      <td>Huang High School</td>\n",
       "      <td>67</td>\n",
       "      <td>58</td>\n",
       "      <td>0</td>\n",
       "      <td>District</td>\n",
       "      <td>2917</td>\n",
       "      <td>1910635</td>\n",
       "    </tr>\n",
       "    <tr>\n",
       "      <th>4</th>\n",
       "      <td>4</td>\n",
       "      <td>Bonnie Ray</td>\n",
       "      <td>F</td>\n",
       "      <td>9th</td>\n",
       "      <td>Huang High School</td>\n",
       "      <td>97</td>\n",
       "      <td>84</td>\n",
       "      <td>0</td>\n",
       "      <td>District</td>\n",
       "      <td>2917</td>\n",
       "      <td>1910635</td>\n",
       "    </tr>\n",
       "  </tbody>\n",
       "</table>\n",
       "</div>"
      ],
      "text/plain": [
       "   Student ID       student_name gender grade        school_name  \\\n",
       "0           0       Paul Bradley      M   9th  Huang High School   \n",
       "1           1       Victor Smith      M  12th  Huang High School   \n",
       "2           2    Kevin Rodriguez      M  12th  Huang High School   \n",
       "3           3  Dr. Richard Scott      M  12th  Huang High School   \n",
       "4           4         Bonnie Ray      F   9th  Huang High School   \n",
       "\n",
       "   reading_score  math_score  School ID      type  size   budget  \n",
       "0             66          79          0  District  2917  1910635  \n",
       "1             94          61          0  District  2917  1910635  \n",
       "2             90          60          0  District  2917  1910635  \n",
       "3             67          58          0  District  2917  1910635  \n",
       "4             97          84          0  District  2917  1910635  "
      ]
     },
     "execution_count": 2,
     "metadata": {},
     "output_type": "execute_result"
    }
   ],
   "source": [
    "import pandas as pd\n",
    "from pathlib import Path\n",
    "\n",
    "school_data_temp = Path(\"Resources\\schools_complete.csv\")\n",
    "student_data_temp = Path(\"Resources\\students_complete.csv\")\n",
    "\n",
    "school_data = pd.read_csv(school_data_temp)\n",
    "student_data = pd.read_csv(student_data_temp)\n",
    "  \n",
    "school_complete = pd.merge(student_data, school_data, how=\"left\", on=[\"school_name\", \"school_name\"])\n",
    "school_complete.head()"
   ]
  },
  {
   "cell_type": "code",
   "execution_count": 3,
   "id": "24409801",
   "metadata": {},
   "outputs": [
    {
     "data": {
      "text/plain": [
       "15"
      ]
     },
     "execution_count": 3,
     "metadata": {},
     "output_type": "execute_result"
    }
   ],
   "source": [
    "#total number of unique schools\n",
    "school_names = len(school_complete[\"school_name\"].unique())\n",
    "school_names"
   ]
  },
  {
   "cell_type": "code",
   "execution_count": 4,
   "id": "99ac91f6",
   "metadata": {},
   "outputs": [
    {
     "data": {
      "text/plain": [
       "39170"
      ]
     },
     "execution_count": 4,
     "metadata": {},
     "output_type": "execute_result"
    }
   ],
   "source": [
    "#total number of students (nonunique apparently)\n",
    "student_count = len(school_complete[\"Student ID\"])\n",
    "student_count"
   ]
  },
  {
   "cell_type": "code",
   "execution_count": 5,
   "id": "025b765a",
   "metadata": {},
   "outputs": [
    {
     "data": {
      "text/plain": [
       "82932329558"
      ]
     },
     "execution_count": 5,
     "metadata": {},
     "output_type": "execute_result"
    }
   ],
   "source": [
    "#total budget\n",
    "total_budget = school_complete[\"budget\"].sum()\n",
    "total_budget"
   ]
  },
  {
   "cell_type": "code",
   "execution_count": 6,
   "id": "0f8f725b",
   "metadata": {},
   "outputs": [
    {
     "data": {
      "text/plain": [
       "78.98537145774827"
      ]
     },
     "execution_count": 6,
     "metadata": {},
     "output_type": "execute_result"
    }
   ],
   "source": [
    "#average math scores\n",
    "math_avg = school_complete[\"math_score\"].mean()\n",
    "math_avg"
   ]
  },
  {
   "cell_type": "code",
   "execution_count": 7,
   "id": "0ce815de",
   "metadata": {},
   "outputs": [
    {
     "data": {
      "text/plain": [
       "81.87784018381414"
      ]
     },
     "execution_count": 7,
     "metadata": {},
     "output_type": "execute_result"
    }
   ],
   "source": [
    "#average reading scores\n",
    "read_avg = school_complete[\"reading_score\"].mean()\n",
    "read_avg"
   ]
  },
  {
   "cell_type": "code",
   "execution_count": 8,
   "id": "09a132fa",
   "metadata": {},
   "outputs": [
    {
     "data": {
      "text/plain": [
       "74.9808526933878"
      ]
     },
     "execution_count": 8,
     "metadata": {},
     "output_type": "execute_result"
    }
   ],
   "source": [
    "#percent of those passing in math\n",
    "math_pass = school_complete[(school_complete[\"math_score\"] >= 70)].count()[\"student_name\"]\n",
    "math_pass_percent = math_pass / float(student_count) * 100\n",
    "math_pass_percent"
   ]
  },
  {
   "cell_type": "code",
   "execution_count": 9,
   "id": "8bbff922",
   "metadata": {},
   "outputs": [
    {
     "data": {
      "text/plain": [
       "85.80546336482001"
      ]
     },
     "execution_count": 9,
     "metadata": {},
     "output_type": "execute_result"
    }
   ],
   "source": [
    "#percent of those passing in reading\n",
    "read_pass = school_complete[(school_complete[\"reading_score\"] >= 70)].count()[\"student_name\"]\n",
    "read_pass_percent = read_pass / float(student_count) * 100\n",
    "read_pass_percent"
   ]
  },
  {
   "cell_type": "code",
   "execution_count": 10,
   "id": "9468889f",
   "metadata": {},
   "outputs": [
    {
     "data": {
      "text/plain": [
       "65.17232575950983"
      ]
     },
     "execution_count": 10,
     "metadata": {},
     "output_type": "execute_result"
    }
   ],
   "source": [
    "passing_math_reading_count = school_complete[\n",
    "    (school_complete[\"math_score\"] >= 70) & (school_complete[\"reading_score\"] >= 70)\n",
    "].count()[\"student_name\"]\n",
    "overall_pass_rate = passing_math_reading_count / float(student_count) * 100\n",
    "overall_pass_rate"
   ]
  },
  {
   "cell_type": "code",
   "execution_count": 11,
   "id": "fb5e5c2e",
   "metadata": {},
   "outputs": [
    {
     "name": "stderr",
     "output_type": "stream",
     "text": [
      "C:\\Users\\epicr\\AppData\\Local\\Temp\\ipykernel_15700\\2467799583.py:20: FutureWarning: this method is deprecated in favour of `Styler.hide(axis=\"index\")`\n",
      "  district_summary.style.hide_index()\n"
     ]
    },
    {
     "data": {
      "text/html": [
       "<style type=\"text/css\">\n",
       "</style>\n",
       "<table id=\"T_6520d\">\n",
       "  <thead>\n",
       "    <tr>\n",
       "      <th id=\"T_6520d_level0_col0\" class=\"col_heading level0 col0\" >Unique schools</th>\n",
       "      <th id=\"T_6520d_level0_col1\" class=\"col_heading level0 col1\" >Total Students</th>\n",
       "      <th id=\"T_6520d_level0_col2\" class=\"col_heading level0 col2\" >Total Budget</th>\n",
       "      <th id=\"T_6520d_level0_col3\" class=\"col_heading level0 col3\" >Avg Math Score</th>\n",
       "      <th id=\"T_6520d_level0_col4\" class=\"col_heading level0 col4\" >Avg Reading Score</th>\n",
       "      <th id=\"T_6520d_level0_col5\" class=\"col_heading level0 col5\" >% Passing Math</th>\n",
       "      <th id=\"T_6520d_level0_col6\" class=\"col_heading level0 col6\" >% Passing Reading</th>\n",
       "      <th id=\"T_6520d_level0_col7\" class=\"col_heading level0 col7\" >% Overall Passing</th>\n",
       "    </tr>\n",
       "  </thead>\n",
       "  <tbody>\n",
       "    <tr>\n",
       "      <td id=\"T_6520d_row0_col0\" class=\"data row0 col0\" >15</td>\n",
       "      <td id=\"T_6520d_row0_col1\" class=\"data row0 col1\" >39,170</td>\n",
       "      <td id=\"T_6520d_row0_col2\" class=\"data row0 col2\" >$82,932,329,558.00</td>\n",
       "      <td id=\"T_6520d_row0_col3\" class=\"data row0 col3\" >78.985</td>\n",
       "      <td id=\"T_6520d_row0_col4\" class=\"data row0 col4\" >81.878</td>\n",
       "      <td id=\"T_6520d_row0_col5\" class=\"data row0 col5\" >74.98</td>\n",
       "      <td id=\"T_6520d_row0_col6\" class=\"data row0 col6\" >85.81</td>\n",
       "      <td id=\"T_6520d_row0_col7\" class=\"data row0 col7\" >65.17</td>\n",
       "    </tr>\n",
       "  </tbody>\n",
       "</table>\n"
      ],
      "text/plain": [
       "<pandas.io.formats.style.Styler at 0x227aeee7e20>"
      ]
     },
     "execution_count": 11,
     "metadata": {},
     "output_type": "execute_result"
    }
   ],
   "source": [
    "district_summary = pd.DataFrame({\n",
    "    \"Unique schools\": [school_names],\n",
    "    \"Total Students\": [student_count],\n",
    "    \"Total Budget\": [total_budget],\n",
    "    \"Avg Math Score\": [math_avg],\n",
    "    \"Avg Reading Score\": [read_avg],\n",
    "    \"% Passing Math\": [math_pass_percent],\n",
    "    \"% Passing Reading\": [read_pass_percent],\n",
    "    \"% Overall Passing\": [overall_pass_rate]\n",
    "})\n",
    "\n",
    "district_summary[\"Total Students\"] = district_summary[\"Total Students\"].map(\"{:,}\".format)\n",
    "district_summary[\"Total Budget\"] = district_summary[\"Total Budget\"].map(\"${:,.2f}\".format)\n",
    "district_summary[\"Avg Math Score\"] = district_summary[\"Avg Math Score\"].map(\"{:,.3f}\".format)\n",
    "district_summary[\"Avg Reading Score\"] = district_summary[\"Avg Reading Score\"].map(\"{:,.3f}\".format)\n",
    "district_summary[\"% Passing Math\"] = district_summary[\"% Passing Math\"].map(\"{:,.2f}\".format)\n",
    "district_summary[\"% Passing Reading\"] = district_summary[\"% Passing Reading\"].map(\"{:,.2f}\".format)\n",
    "district_summary[\"% Overall Passing\"] = district_summary[\"% Overall Passing\"].map(\"{:,.2f}\".format)\n",
    "\n",
    "district_summary.style.hide_index()"
   ]
  },
  {
   "cell_type": "code",
   "execution_count": null,
   "id": "3b2c6a8b",
   "metadata": {},
   "outputs": [],
   "source": []
  }
 ],
 "metadata": {
  "kernelspec": {
   "display_name": "Python 3 (ipykernel)",
   "language": "python",
   "name": "python3"
  },
  "language_info": {
   "codemirror_mode": {
    "name": "ipython",
    "version": 3
   },
   "file_extension": ".py",
   "mimetype": "text/x-python",
   "name": "python",
   "nbconvert_exporter": "python",
   "pygments_lexer": "ipython3",
   "version": "3.10.11"
  }
 },
 "nbformat": 4,
 "nbformat_minor": 5
}
